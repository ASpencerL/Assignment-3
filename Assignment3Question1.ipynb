{
 "cells": [
  {
   "cell_type": "code",
   "execution_count": 30,
   "id": "178fbcab",
   "metadata": {},
   "outputs": [
    {
     "data": {
      "text/plain": [
       "7"
      ]
     },
     "execution_count": 30,
     "metadata": {},
     "output_type": "execute_result"
    }
   ],
   "source": [
    "import numpy as np\n",
    "import matplotlib.pyplot as plt\n",
    "\n",
    "def iteration(x,y):\n",
    "    c = complex(x,y)\n",
    "    z = 0 + 0j\n",
    "    iteration_counter = 0\n",
    "    while iteration_counter < 1000:\n",
    "        if abs(z**2) <= z.real**2 + z.imag**2:\n",
    "            z = z**2 + c\n",
    "            iteration_counter = iteration_counter + 1\n",
    "        if abs(z**2) > (z.real**2 + z.imag**2):\n",
    "            return iteration_counter\n",
    "            break\n",
    "    return iteration_counter\n",
    "\n",
    "iteration(1,1)"
   ]
  },
  {
   "cell_type": "code",
   "execution_count": 35,
   "id": "2b5f4c04",
   "metadata": {},
   "outputs": [
    {
     "name": "stderr",
     "output_type": "stream",
     "text": [
      "/cita/modules/python/3.10.2/lib/python3.10/site-packages/scipy/interpolate/_fitpack_impl.py:977: RuntimeWarning: No more knots can be added because the number of B-spline\n",
      "coefficients already exceeds the number of data points m.\n",
      "Probable causes: either s or m too small. (fp>s)\n",
      "\tkx,ky=1,1 nx,ny=9,10 m=50 fp=0.000000 s=0.000000\n",
      "  warnings.warn(RuntimeWarning(_iermess2[ierm][0] + _mess))\n"
     ]
    },
    {
     "ename": "TypeError",
     "evalue": "only length-1 arrays can be converted to Python scalars",
     "output_type": "error",
     "traceback": [
      "\u001b[0;31m---------------------------------------------------------------------------\u001b[0m",
      "\u001b[0;31mTypeError\u001b[0m                                 Traceback (most recent call last)",
      "Input \u001b[0;32mIn [35]\u001b[0m, in \u001b[0;36m<module>\u001b[0;34m\u001b[0m\n\u001b[1;32m      6\u001b[0m x_coords \u001b[38;5;241m=\u001b[39m np\u001b[38;5;241m.\u001b[39marange(\u001b[38;5;28mmin\u001b[39m(x),\u001b[38;5;28mmax\u001b[39m(x)\u001b[38;5;241m+\u001b[39m\u001b[38;5;241m1\u001b[39m)\n\u001b[1;32m      7\u001b[0m y_coords \u001b[38;5;241m=\u001b[39m np\u001b[38;5;241m.\u001b[39marange(\u001b[38;5;28mmin\u001b[39m(y),\u001b[38;5;28mmax\u001b[39m(y)\u001b[38;5;241m+\u001b[39m\u001b[38;5;241m1\u001b[39m)\n\u001b[0;32m----> 8\u001b[0m Z \u001b[38;5;241m=\u001b[39m \u001b[43miteration\u001b[49m\u001b[43m(\u001b[49m\u001b[43mx\u001b[49m\u001b[43m,\u001b[49m\u001b[43my\u001b[49m\u001b[43m)\u001b[49m\n\u001b[1;32m     10\u001b[0m fig \u001b[38;5;241m=\u001b[39m plt\u001b[38;5;241m.\u001b[39mimshow(Z,\n\u001b[1;32m     11\u001b[0m            extent\u001b[38;5;241m=\u001b[39m[\u001b[38;5;28mmin\u001b[39m(x),\u001b[38;5;28mmax\u001b[39m(x),\u001b[38;5;28mmin\u001b[39m(y),\u001b[38;5;28mmax\u001b[39m(y)],\n\u001b[1;32m     12\u001b[0m            origin\u001b[38;5;241m=\u001b[39m\u001b[38;5;124m\"\u001b[39m\u001b[38;5;124mlower\u001b[39m\u001b[38;5;124m\"\u001b[39m)\n\u001b[1;32m     14\u001b[0m \u001b[38;5;66;03m# Show the positions of the sample points, just to have some reference\u001b[39;00m\n",
      "Input \u001b[0;32mIn [30]\u001b[0m, in \u001b[0;36miteration\u001b[0;34m(x, y)\u001b[0m\n\u001b[1;32m      4\u001b[0m \u001b[38;5;28;01mdef\u001b[39;00m \u001b[38;5;21miteration\u001b[39m(x,y):\n\u001b[0;32m----> 5\u001b[0m     c \u001b[38;5;241m=\u001b[39m \u001b[38;5;28;43mcomplex\u001b[39;49m\u001b[43m(\u001b[49m\u001b[43mx\u001b[49m\u001b[43m,\u001b[49m\u001b[43my\u001b[49m\u001b[43m)\u001b[49m\n\u001b[1;32m      6\u001b[0m     z \u001b[38;5;241m=\u001b[39m \u001b[38;5;241m0\u001b[39m \u001b[38;5;241m+\u001b[39m \u001b[38;5;241m0\u001b[39mj\n\u001b[1;32m      7\u001b[0m     iteration_counter \u001b[38;5;241m=\u001b[39m \u001b[38;5;241m0\u001b[39m\n",
      "\u001b[0;31mTypeError\u001b[0m: only length-1 arrays can be converted to Python scalars"
     ]
    }
   ],
   "source": [
    "from scipy.interpolate import interp2d\n",
    "\n",
    "x = y = z = np.linspace(-2, 2, 50)\n",
    "f = interp2d(x,y,z,kind=\"linear\")\n",
    "\n",
    "x_coords = np.arange(min(x),max(x)+1)\n",
    "y_coords = np.arange(min(y),max(y)+1)\n",
    "Z = iteration(x,y)\n",
    "\n",
    "fig = plt.imshow(Z,\n",
    "           extent=[min(x),max(x),min(y),max(y)],\n",
    "           origin=\"lower\")\n",
    "\n",
    "# Show the positions of the sample points, just to have some reference\n",
    "fig.axes.set_autoscale_on(False)\n",
    "plt.scatter(x,y,400,facecolors='none')"
   ]
  },
  {
   "cell_type": "code",
   "execution_count": null,
   "id": "86b5ac4a",
   "metadata": {},
   "outputs": [],
   "source": []
  },
  {
   "cell_type": "code",
   "execution_count": null,
   "id": "fcbb2136",
   "metadata": {},
   "outputs": [],
   "source": []
  }
 ],
 "metadata": {
  "kernelspec": {
   "display_name": "Python 3 (ipykernel)",
   "language": "python",
   "name": "python3"
  },
  "language_info": {
   "codemirror_mode": {
    "name": "ipython",
    "version": 3
   },
   "file_extension": ".py",
   "mimetype": "text/x-python",
   "name": "python",
   "nbconvert_exporter": "python",
   "pygments_lexer": "ipython3",
   "version": "3.10.2"
  }
 },
 "nbformat": 4,
 "nbformat_minor": 5
}
